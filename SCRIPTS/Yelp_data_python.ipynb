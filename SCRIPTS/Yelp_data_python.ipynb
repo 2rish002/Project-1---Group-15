{
 "cells": [
  {
   "cell_type": "code",
   "execution_count": 5,
   "metadata": {},
   "outputs": [],
   "source": [
    "#basic libraries for linear algebra and data procesing\n",
    "import numpy as np\n",
    "import pandas as pd\n",
    "\n",
    "#visualization\n",
    "import matplotlib.pyplot as plt\n",
    "import seaborn as sns\n",
    "import plotly.express as px\n",
    "#sentiment analysis\n",
    "from vaderSentiment.vaderSentiment import SentimentIntensityAnalyzer\n",
    "\n",
    "#comparison analysis metrics\n",
    "from sklearn.metrics import accuracy_score,classification_report,confusion_matrix,ConfusionMatrixDisplay\n",
    "\n",
    "#time and warnings\n",
    "import time\n",
    "import warnings\n",
    "\n",
    "#settings\n",
    "warnings.filterwarnings(\"ignore\")\n",
    "%matplotlib inline\n",
    "sns.set_context('poster', font_scale=0.5)"
   ]
  },
  {
   "cell_type": "code",
   "execution_count": 7,
   "metadata": {},
   "outputs": [],
   "source": [
    "yelp_data = pd.read_csv('/Users/aidanwiktorowicz/Desktop/Data Science Project/Yelpdata.csv')"
   ]
  },
  {
   "cell_type": "code",
   "execution_count": 8,
   "metadata": {},
   "outputs": [
    {
     "name": "stdout",
     "output_type": "stream",
     "text": [
      "<class 'pandas.core.frame.DataFrame'>\n",
      "RangeIndex: 74051 entries, 0 to 74050\n",
      "Data columns (total 3 columns):\n",
      " #   Column  Non-Null Count  Dtype  \n",
      "---  ------  --------------  -----  \n",
      " 0   stars   74051 non-null  float64\n",
      " 1   text    74051 non-null  object \n",
      " 2   cat     74051 non-null  object \n",
      "dtypes: float64(1), object(2)\n",
      "memory usage: 1.7+ MB\n"
     ]
    }
   ],
   "source": [
    "yelp_data.info()"
   ]
  },
  {
   "cell_type": "code",
   "execution_count": 9,
   "metadata": {},
   "outputs": [],
   "source": [
    "sid = SentimentIntensityAnalyzer()"
   ]
  },
  {
   "cell_type": "code",
   "execution_count": 10,
   "metadata": {},
   "outputs": [],
   "source": [
    "yelp_data['polarity_scores'] = yelp_data['text'].apply(lambda text: sid.polarity_scores(str(text)))\n",
    "yelp_data['compound_score']  = yelp_data['polarity_scores'].apply(lambda score_dict: score_dict['compound'])"
   ]
  },
  {
   "cell_type": "code",
   "execution_count": 11,
   "metadata": {},
   "outputs": [
    {
     "data": {
      "text/html": [
       "<div>\n",
       "<style scoped>\n",
       "    .dataframe tbody tr th:only-of-type {\n",
       "        vertical-align: middle;\n",
       "    }\n",
       "\n",
       "    .dataframe tbody tr th {\n",
       "        vertical-align: top;\n",
       "    }\n",
       "\n",
       "    .dataframe thead th {\n",
       "        text-align: right;\n",
       "    }\n",
       "</style>\n",
       "<table border=\"1\" class=\"dataframe\">\n",
       "  <thead>\n",
       "    <tr style=\"text-align: right;\">\n",
       "      <th></th>\n",
       "      <th>stars</th>\n",
       "      <th>text</th>\n",
       "      <th>cat</th>\n",
       "      <th>polarity_scores</th>\n",
       "      <th>compound_score</th>\n",
       "    </tr>\n",
       "  </thead>\n",
       "  <tbody>\n",
       "    <tr>\n",
       "      <th>74031</th>\n",
       "      <td>1.0</td>\n",
       "      <td>Omg, worst BBQ I've had ...everything we order...</td>\n",
       "      <td>Southern</td>\n",
       "      <td>{'neg': 0.322, 'neu': 0.678, 'pos': 0.0, 'comp...</td>\n",
       "      <td>-0.8748</td>\n",
       "    </tr>\n",
       "    <tr>\n",
       "      <th>74032</th>\n",
       "      <td>5.0</td>\n",
       "      <td>Groupon offered a deal  $50,00 food voucher fo...</td>\n",
       "      <td>Southern</td>\n",
       "      <td>{'neg': 0.0, 'neu': 0.813, 'pos': 0.187, 'comp...</td>\n",
       "      <td>0.8555</td>\n",
       "    </tr>\n",
       "    <tr>\n",
       "      <th>74033</th>\n",
       "      <td>3.0</td>\n",
       "      <td>I really enjoy the dry rub on the ribs. Good p...</td>\n",
       "      <td>Southern</td>\n",
       "      <td>{'neg': 0.0, 'neu': 0.741, 'pos': 0.259, 'comp...</td>\n",
       "      <td>0.8978</td>\n",
       "    </tr>\n",
       "    <tr>\n",
       "      <th>74034</th>\n",
       "      <td>3.0</td>\n",
       "      <td>Very good carolina BBQ, worth a stop i had the...</td>\n",
       "      <td>Southern</td>\n",
       "      <td>{'neg': 0.082, 'neu': 0.521, 'pos': 0.397, 'co...</td>\n",
       "      <td>0.8169</td>\n",
       "    </tr>\n",
       "    <tr>\n",
       "      <th>74035</th>\n",
       "      <td>1.0</td>\n",
       "      <td>went on 4/30/2016 I order the chicken and rib ...</td>\n",
       "      <td>Southern</td>\n",
       "      <td>{'neg': 0.127, 'neu': 0.802, 'pos': 0.071, 'co...</td>\n",
       "      <td>-0.8989</td>\n",
       "    </tr>\n",
       "    <tr>\n",
       "      <th>74036</th>\n",
       "      <td>4.0</td>\n",
       "      <td>I was curious when I drove past Fat Jack's BBQ...</td>\n",
       "      <td>Southern</td>\n",
       "      <td>{'neg': 0.029, 'neu': 0.782, 'pos': 0.188, 'co...</td>\n",
       "      <td>0.8750</td>\n",
       "    </tr>\n",
       "    <tr>\n",
       "      <th>74037</th>\n",
       "      <td>2.0</td>\n",
       "      <td>i would rate this place higher as the food is ...</td>\n",
       "      <td>Southern</td>\n",
       "      <td>{'neg': 0.055, 'neu': 0.819, 'pos': 0.126, 'co...</td>\n",
       "      <td>0.8945</td>\n",
       "    </tr>\n",
       "    <tr>\n",
       "      <th>74038</th>\n",
       "      <td>1.0</td>\n",
       "      <td>We waited over 3 hours to get our delivery whe...</td>\n",
       "      <td>Southern</td>\n",
       "      <td>{'neg': 0.101, 'neu': 0.836, 'pos': 0.063, 'co...</td>\n",
       "      <td>-0.8112</td>\n",
       "    </tr>\n",
       "    <tr>\n",
       "      <th>74039</th>\n",
       "      <td>5.0</td>\n",
       "      <td>The Ribs are the best I've ever had, that incl...</td>\n",
       "      <td>Southern</td>\n",
       "      <td>{'neg': 0.0, 'neu': 0.847, 'pos': 0.153, 'comp...</td>\n",
       "      <td>0.9330</td>\n",
       "    </tr>\n",
       "    <tr>\n",
       "      <th>74040</th>\n",
       "      <td>1.0</td>\n",
       "      <td>Went here with a buddy a few days ago.  First ...</td>\n",
       "      <td>Southern</td>\n",
       "      <td>{'neg': 0.096, 'neu': 0.818, 'pos': 0.086, 'co...</td>\n",
       "      <td>-0.5023</td>\n",
       "    </tr>\n",
       "    <tr>\n",
       "      <th>74041</th>\n",
       "      <td>2.0</td>\n",
       "      <td>Didn't realize the place had changed names and...</td>\n",
       "      <td>Southern</td>\n",
       "      <td>{'neg': 0.102, 'neu': 0.835, 'pos': 0.063, 'co...</td>\n",
       "      <td>-0.2263</td>\n",
       "    </tr>\n",
       "    <tr>\n",
       "      <th>74042</th>\n",
       "      <td>2.0</td>\n",
       "      <td>First off, I don't have any complaints about t...</td>\n",
       "      <td>Southern</td>\n",
       "      <td>{'neg': 0.07, 'neu': 0.787, 'pos': 0.143, 'com...</td>\n",
       "      <td>0.9352</td>\n",
       "    </tr>\n",
       "    <tr>\n",
       "      <th>74043</th>\n",
       "      <td>5.0</td>\n",
       "      <td>HELL YES!!!!!\\n\\nI had never been to this plac...</td>\n",
       "      <td>Southern</td>\n",
       "      <td>{'neg': 0.097, 'neu': 0.783, 'pos': 0.121, 'co...</td>\n",
       "      <td>0.7172</td>\n",
       "    </tr>\n",
       "    <tr>\n",
       "      <th>74044</th>\n",
       "      <td>1.0</td>\n",
       "      <td>Wow!! This place has sure gone down hill...I h...</td>\n",
       "      <td>Southern</td>\n",
       "      <td>{'neg': 0.079, 'neu': 0.73, 'pos': 0.19, 'comp...</td>\n",
       "      <td>0.9687</td>\n",
       "    </tr>\n",
       "    <tr>\n",
       "      <th>74045</th>\n",
       "      <td>1.0</td>\n",
       "      <td>What a shame. This place has really gone down ...</td>\n",
       "      <td>Southern</td>\n",
       "      <td>{'neg': 0.104, 'neu': 0.806, 'pos': 0.09, 'com...</td>\n",
       "      <td>-0.6634</td>\n",
       "    </tr>\n",
       "    <tr>\n",
       "      <th>74046</th>\n",
       "      <td>4.0</td>\n",
       "      <td>The BBQ lunch specials are a steal and will ce...</td>\n",
       "      <td>Southern</td>\n",
       "      <td>{'neg': 0.068, 'neu': 0.706, 'pos': 0.227, 'co...</td>\n",
       "      <td>0.9266</td>\n",
       "    </tr>\n",
       "    <tr>\n",
       "      <th>74047</th>\n",
       "      <td>2.0</td>\n",
       "      <td>I wasn't fond of the place when they first ope...</td>\n",
       "      <td>Southern</td>\n",
       "      <td>{'neg': 0.124, 'neu': 0.792, 'pos': 0.084, 'co...</td>\n",
       "      <td>-0.6911</td>\n",
       "    </tr>\n",
       "    <tr>\n",
       "      <th>74048</th>\n",
       "      <td>4.0</td>\n",
       "      <td>Oh my god. The Food Is Fantastic! Must try the...</td>\n",
       "      <td>Southern</td>\n",
       "      <td>{'neg': 0.037, 'neu': 0.781, 'pos': 0.183, 'co...</td>\n",
       "      <td>0.9412</td>\n",
       "    </tr>\n",
       "    <tr>\n",
       "      <th>74049</th>\n",
       "      <td>4.0</td>\n",
       "      <td>I've been here twice and most recently using a...</td>\n",
       "      <td>Southern</td>\n",
       "      <td>{'neg': 0.026, 'neu': 0.862, 'pos': 0.112, 'co...</td>\n",
       "      <td>0.9646</td>\n",
       "    </tr>\n",
       "    <tr>\n",
       "      <th>74050</th>\n",
       "      <td>3.0</td>\n",
       "      <td>Have only gotten delivery from Fat Jack's so c...</td>\n",
       "      <td>Southern</td>\n",
       "      <td>{'neg': 0.036, 'neu': 0.87, 'pos': 0.095, 'com...</td>\n",
       "      <td>0.5187</td>\n",
       "    </tr>\n",
       "  </tbody>\n",
       "</table>\n",
       "</div>"
      ],
      "text/plain": [
       "       stars                                               text       cat  \\\n",
       "74031    1.0  Omg, worst BBQ I've had ...everything we order...  Southern   \n",
       "74032    5.0  Groupon offered a deal  $50,00 food voucher fo...  Southern   \n",
       "74033    3.0  I really enjoy the dry rub on the ribs. Good p...  Southern   \n",
       "74034    3.0  Very good carolina BBQ, worth a stop i had the...  Southern   \n",
       "74035    1.0  went on 4/30/2016 I order the chicken and rib ...  Southern   \n",
       "74036    4.0  I was curious when I drove past Fat Jack's BBQ...  Southern   \n",
       "74037    2.0  i would rate this place higher as the food is ...  Southern   \n",
       "74038    1.0  We waited over 3 hours to get our delivery whe...  Southern   \n",
       "74039    5.0  The Ribs are the best I've ever had, that incl...  Southern   \n",
       "74040    1.0  Went here with a buddy a few days ago.  First ...  Southern   \n",
       "74041    2.0  Didn't realize the place had changed names and...  Southern   \n",
       "74042    2.0  First off, I don't have any complaints about t...  Southern   \n",
       "74043    5.0  HELL YES!!!!!\\n\\nI had never been to this plac...  Southern   \n",
       "74044    1.0  Wow!! This place has sure gone down hill...I h...  Southern   \n",
       "74045    1.0  What a shame. This place has really gone down ...  Southern   \n",
       "74046    4.0  The BBQ lunch specials are a steal and will ce...  Southern   \n",
       "74047    2.0  I wasn't fond of the place when they first ope...  Southern   \n",
       "74048    4.0  Oh my god. The Food Is Fantastic! Must try the...  Southern   \n",
       "74049    4.0  I've been here twice and most recently using a...  Southern   \n",
       "74050    3.0  Have only gotten delivery from Fat Jack's so c...  Southern   \n",
       "\n",
       "                                         polarity_scores  compound_score  \n",
       "74031  {'neg': 0.322, 'neu': 0.678, 'pos': 0.0, 'comp...         -0.8748  \n",
       "74032  {'neg': 0.0, 'neu': 0.813, 'pos': 0.187, 'comp...          0.8555  \n",
       "74033  {'neg': 0.0, 'neu': 0.741, 'pos': 0.259, 'comp...          0.8978  \n",
       "74034  {'neg': 0.082, 'neu': 0.521, 'pos': 0.397, 'co...          0.8169  \n",
       "74035  {'neg': 0.127, 'neu': 0.802, 'pos': 0.071, 'co...         -0.8989  \n",
       "74036  {'neg': 0.029, 'neu': 0.782, 'pos': 0.188, 'co...          0.8750  \n",
       "74037  {'neg': 0.055, 'neu': 0.819, 'pos': 0.126, 'co...          0.8945  \n",
       "74038  {'neg': 0.101, 'neu': 0.836, 'pos': 0.063, 'co...         -0.8112  \n",
       "74039  {'neg': 0.0, 'neu': 0.847, 'pos': 0.153, 'comp...          0.9330  \n",
       "74040  {'neg': 0.096, 'neu': 0.818, 'pos': 0.086, 'co...         -0.5023  \n",
       "74041  {'neg': 0.102, 'neu': 0.835, 'pos': 0.063, 'co...         -0.2263  \n",
       "74042  {'neg': 0.07, 'neu': 0.787, 'pos': 0.143, 'com...          0.9352  \n",
       "74043  {'neg': 0.097, 'neu': 0.783, 'pos': 0.121, 'co...          0.7172  \n",
       "74044  {'neg': 0.079, 'neu': 0.73, 'pos': 0.19, 'comp...          0.9687  \n",
       "74045  {'neg': 0.104, 'neu': 0.806, 'pos': 0.09, 'com...         -0.6634  \n",
       "74046  {'neg': 0.068, 'neu': 0.706, 'pos': 0.227, 'co...          0.9266  \n",
       "74047  {'neg': 0.124, 'neu': 0.792, 'pos': 0.084, 'co...         -0.6911  \n",
       "74048  {'neg': 0.037, 'neu': 0.781, 'pos': 0.183, 'co...          0.9412  \n",
       "74049  {'neg': 0.026, 'neu': 0.862, 'pos': 0.112, 'co...          0.9646  \n",
       "74050  {'neg': 0.036, 'neu': 0.87, 'pos': 0.095, 'com...          0.5187  "
      ]
     },
     "execution_count": 11,
     "metadata": {},
     "output_type": "execute_result"
    }
   ],
   "source": [
    "yelp_data.tail(20)"
   ]
  },
  {
   "cell_type": "code",
   "execution_count": 30,
   "metadata": {},
   "outputs": [
    {
     "data": {
      "application/vnd.plotly.v1+json": {
       "config": {
        "plotlyServerURL": "https://plot.ly"
       },
       "data": [
        {
         "alignmentgroup": "True",
         "hovertemplate": "cat=%{x}<br>compound_score=%{y}<extra></extra>",
         "legendgroup": "",
         "marker": {
          "color": "#636efa",
          "pattern": {
           "shape": ""
          }
         },
         "name": "",
         "offsetgroup": "",
         "orientation": "v",
         "showlegend": false,
         "textposition": "auto",
         "type": "bar",
         "x": [
          "French",
          "Spanish",
          "Korean",
          "Mediterranean",
          "Indian",
          "American",
          "Japanese",
          "Thai",
          "Italian",
          "Irish",
          "Southern",
          "Chinese"
         ],
         "xaxis": "x",
         "y": [
          0.8482399228543877,
          0.8249436559139784,
          0.8023516528925619,
          0.7796667962356792,
          0.7606401629072682,
          0.7573689792982176,
          0.7444908280254777,
          0.7332825127334465,
          0.7036547225830395,
          0.6777067331670823,
          0.6771577933450088,
          0.6235638444499139
         ],
         "yaxis": "y"
        }
       ],
       "layout": {
        "barmode": "relative",
        "legend": {
         "tracegroupgap": 0
        },
        "margin": {
         "t": 60
        },
        "template": {
         "data": {
          "bar": [
           {
            "error_x": {
             "color": "#2a3f5f"
            },
            "error_y": {
             "color": "#2a3f5f"
            },
            "marker": {
             "line": {
              "color": "#E5ECF6",
              "width": 0.5
             },
             "pattern": {
              "fillmode": "overlay",
              "size": 10,
              "solidity": 0.2
             }
            },
            "type": "bar"
           }
          ],
          "barpolar": [
           {
            "marker": {
             "line": {
              "color": "#E5ECF6",
              "width": 0.5
             },
             "pattern": {
              "fillmode": "overlay",
              "size": 10,
              "solidity": 0.2
             }
            },
            "type": "barpolar"
           }
          ],
          "carpet": [
           {
            "aaxis": {
             "endlinecolor": "#2a3f5f",
             "gridcolor": "white",
             "linecolor": "white",
             "minorgridcolor": "white",
             "startlinecolor": "#2a3f5f"
            },
            "baxis": {
             "endlinecolor": "#2a3f5f",
             "gridcolor": "white",
             "linecolor": "white",
             "minorgridcolor": "white",
             "startlinecolor": "#2a3f5f"
            },
            "type": "carpet"
           }
          ],
          "choropleth": [
           {
            "colorbar": {
             "outlinewidth": 0,
             "ticks": ""
            },
            "type": "choropleth"
           }
          ],
          "contour": [
           {
            "colorbar": {
             "outlinewidth": 0,
             "ticks": ""
            },
            "colorscale": [
             [
              0,
              "#0d0887"
             ],
             [
              0.1111111111111111,
              "#46039f"
             ],
             [
              0.2222222222222222,
              "#7201a8"
             ],
             [
              0.3333333333333333,
              "#9c179e"
             ],
             [
              0.4444444444444444,
              "#bd3786"
             ],
             [
              0.5555555555555556,
              "#d8576b"
             ],
             [
              0.6666666666666666,
              "#ed7953"
             ],
             [
              0.7777777777777778,
              "#fb9f3a"
             ],
             [
              0.8888888888888888,
              "#fdca26"
             ],
             [
              1,
              "#f0f921"
             ]
            ],
            "type": "contour"
           }
          ],
          "contourcarpet": [
           {
            "colorbar": {
             "outlinewidth": 0,
             "ticks": ""
            },
            "type": "contourcarpet"
           }
          ],
          "heatmap": [
           {
            "colorbar": {
             "outlinewidth": 0,
             "ticks": ""
            },
            "colorscale": [
             [
              0,
              "#0d0887"
             ],
             [
              0.1111111111111111,
              "#46039f"
             ],
             [
              0.2222222222222222,
              "#7201a8"
             ],
             [
              0.3333333333333333,
              "#9c179e"
             ],
             [
              0.4444444444444444,
              "#bd3786"
             ],
             [
              0.5555555555555556,
              "#d8576b"
             ],
             [
              0.6666666666666666,
              "#ed7953"
             ],
             [
              0.7777777777777778,
              "#fb9f3a"
             ],
             [
              0.8888888888888888,
              "#fdca26"
             ],
             [
              1,
              "#f0f921"
             ]
            ],
            "type": "heatmap"
           }
          ],
          "heatmapgl": [
           {
            "colorbar": {
             "outlinewidth": 0,
             "ticks": ""
            },
            "colorscale": [
             [
              0,
              "#0d0887"
             ],
             [
              0.1111111111111111,
              "#46039f"
             ],
             [
              0.2222222222222222,
              "#7201a8"
             ],
             [
              0.3333333333333333,
              "#9c179e"
             ],
             [
              0.4444444444444444,
              "#bd3786"
             ],
             [
              0.5555555555555556,
              "#d8576b"
             ],
             [
              0.6666666666666666,
              "#ed7953"
             ],
             [
              0.7777777777777778,
              "#fb9f3a"
             ],
             [
              0.8888888888888888,
              "#fdca26"
             ],
             [
              1,
              "#f0f921"
             ]
            ],
            "type": "heatmapgl"
           }
          ],
          "histogram": [
           {
            "marker": {
             "pattern": {
              "fillmode": "overlay",
              "size": 10,
              "solidity": 0.2
             }
            },
            "type": "histogram"
           }
          ],
          "histogram2d": [
           {
            "colorbar": {
             "outlinewidth": 0,
             "ticks": ""
            },
            "colorscale": [
             [
              0,
              "#0d0887"
             ],
             [
              0.1111111111111111,
              "#46039f"
             ],
             [
              0.2222222222222222,
              "#7201a8"
             ],
             [
              0.3333333333333333,
              "#9c179e"
             ],
             [
              0.4444444444444444,
              "#bd3786"
             ],
             [
              0.5555555555555556,
              "#d8576b"
             ],
             [
              0.6666666666666666,
              "#ed7953"
             ],
             [
              0.7777777777777778,
              "#fb9f3a"
             ],
             [
              0.8888888888888888,
              "#fdca26"
             ],
             [
              1,
              "#f0f921"
             ]
            ],
            "type": "histogram2d"
           }
          ],
          "histogram2dcontour": [
           {
            "colorbar": {
             "outlinewidth": 0,
             "ticks": ""
            },
            "colorscale": [
             [
              0,
              "#0d0887"
             ],
             [
              0.1111111111111111,
              "#46039f"
             ],
             [
              0.2222222222222222,
              "#7201a8"
             ],
             [
              0.3333333333333333,
              "#9c179e"
             ],
             [
              0.4444444444444444,
              "#bd3786"
             ],
             [
              0.5555555555555556,
              "#d8576b"
             ],
             [
              0.6666666666666666,
              "#ed7953"
             ],
             [
              0.7777777777777778,
              "#fb9f3a"
             ],
             [
              0.8888888888888888,
              "#fdca26"
             ],
             [
              1,
              "#f0f921"
             ]
            ],
            "type": "histogram2dcontour"
           }
          ],
          "mesh3d": [
           {
            "colorbar": {
             "outlinewidth": 0,
             "ticks": ""
            },
            "type": "mesh3d"
           }
          ],
          "parcoords": [
           {
            "line": {
             "colorbar": {
              "outlinewidth": 0,
              "ticks": ""
             }
            },
            "type": "parcoords"
           }
          ],
          "pie": [
           {
            "automargin": true,
            "type": "pie"
           }
          ],
          "scatter": [
           {
            "fillpattern": {
             "fillmode": "overlay",
             "size": 10,
             "solidity": 0.2
            },
            "type": "scatter"
           }
          ],
          "scatter3d": [
           {
            "line": {
             "colorbar": {
              "outlinewidth": 0,
              "ticks": ""
             }
            },
            "marker": {
             "colorbar": {
              "outlinewidth": 0,
              "ticks": ""
             }
            },
            "type": "scatter3d"
           }
          ],
          "scattercarpet": [
           {
            "marker": {
             "colorbar": {
              "outlinewidth": 0,
              "ticks": ""
             }
            },
            "type": "scattercarpet"
           }
          ],
          "scattergeo": [
           {
            "marker": {
             "colorbar": {
              "outlinewidth": 0,
              "ticks": ""
             }
            },
            "type": "scattergeo"
           }
          ],
          "scattergl": [
           {
            "marker": {
             "colorbar": {
              "outlinewidth": 0,
              "ticks": ""
             }
            },
            "type": "scattergl"
           }
          ],
          "scattermapbox": [
           {
            "marker": {
             "colorbar": {
              "outlinewidth": 0,
              "ticks": ""
             }
            },
            "type": "scattermapbox"
           }
          ],
          "scatterpolar": [
           {
            "marker": {
             "colorbar": {
              "outlinewidth": 0,
              "ticks": ""
             }
            },
            "type": "scatterpolar"
           }
          ],
          "scatterpolargl": [
           {
            "marker": {
             "colorbar": {
              "outlinewidth": 0,
              "ticks": ""
             }
            },
            "type": "scatterpolargl"
           }
          ],
          "scatterternary": [
           {
            "marker": {
             "colorbar": {
              "outlinewidth": 0,
              "ticks": ""
             }
            },
            "type": "scatterternary"
           }
          ],
          "surface": [
           {
            "colorbar": {
             "outlinewidth": 0,
             "ticks": ""
            },
            "colorscale": [
             [
              0,
              "#0d0887"
             ],
             [
              0.1111111111111111,
              "#46039f"
             ],
             [
              0.2222222222222222,
              "#7201a8"
             ],
             [
              0.3333333333333333,
              "#9c179e"
             ],
             [
              0.4444444444444444,
              "#bd3786"
             ],
             [
              0.5555555555555556,
              "#d8576b"
             ],
             [
              0.6666666666666666,
              "#ed7953"
             ],
             [
              0.7777777777777778,
              "#fb9f3a"
             ],
             [
              0.8888888888888888,
              "#fdca26"
             ],
             [
              1,
              "#f0f921"
             ]
            ],
            "type": "surface"
           }
          ],
          "table": [
           {
            "cells": {
             "fill": {
              "color": "#EBF0F8"
             },
             "line": {
              "color": "white"
             }
            },
            "header": {
             "fill": {
              "color": "#C8D4E3"
             },
             "line": {
              "color": "white"
             }
            },
            "type": "table"
           }
          ]
         },
         "layout": {
          "annotationdefaults": {
           "arrowcolor": "#2a3f5f",
           "arrowhead": 0,
           "arrowwidth": 1
          },
          "autotypenumbers": "strict",
          "coloraxis": {
           "colorbar": {
            "outlinewidth": 0,
            "ticks": ""
           }
          },
          "colorscale": {
           "diverging": [
            [
             0,
             "#8e0152"
            ],
            [
             0.1,
             "#c51b7d"
            ],
            [
             0.2,
             "#de77ae"
            ],
            [
             0.3,
             "#f1b6da"
            ],
            [
             0.4,
             "#fde0ef"
            ],
            [
             0.5,
             "#f7f7f7"
            ],
            [
             0.6,
             "#e6f5d0"
            ],
            [
             0.7,
             "#b8e186"
            ],
            [
             0.8,
             "#7fbc41"
            ],
            [
             0.9,
             "#4d9221"
            ],
            [
             1,
             "#276419"
            ]
           ],
           "sequential": [
            [
             0,
             "#0d0887"
            ],
            [
             0.1111111111111111,
             "#46039f"
            ],
            [
             0.2222222222222222,
             "#7201a8"
            ],
            [
             0.3333333333333333,
             "#9c179e"
            ],
            [
             0.4444444444444444,
             "#bd3786"
            ],
            [
             0.5555555555555556,
             "#d8576b"
            ],
            [
             0.6666666666666666,
             "#ed7953"
            ],
            [
             0.7777777777777778,
             "#fb9f3a"
            ],
            [
             0.8888888888888888,
             "#fdca26"
            ],
            [
             1,
             "#f0f921"
            ]
           ],
           "sequentialminus": [
            [
             0,
             "#0d0887"
            ],
            [
             0.1111111111111111,
             "#46039f"
            ],
            [
             0.2222222222222222,
             "#7201a8"
            ],
            [
             0.3333333333333333,
             "#9c179e"
            ],
            [
             0.4444444444444444,
             "#bd3786"
            ],
            [
             0.5555555555555556,
             "#d8576b"
            ],
            [
             0.6666666666666666,
             "#ed7953"
            ],
            [
             0.7777777777777778,
             "#fb9f3a"
            ],
            [
             0.8888888888888888,
             "#fdca26"
            ],
            [
             1,
             "#f0f921"
            ]
           ]
          },
          "colorway": [
           "#636efa",
           "#EF553B",
           "#00cc96",
           "#ab63fa",
           "#FFA15A",
           "#19d3f3",
           "#FF6692",
           "#B6E880",
           "#FF97FF",
           "#FECB52"
          ],
          "font": {
           "color": "#2a3f5f"
          },
          "geo": {
           "bgcolor": "white",
           "lakecolor": "white",
           "landcolor": "#E5ECF6",
           "showlakes": true,
           "showland": true,
           "subunitcolor": "white"
          },
          "hoverlabel": {
           "align": "left"
          },
          "hovermode": "closest",
          "mapbox": {
           "style": "light"
          },
          "paper_bgcolor": "white",
          "plot_bgcolor": "#E5ECF6",
          "polar": {
           "angularaxis": {
            "gridcolor": "white",
            "linecolor": "white",
            "ticks": ""
           },
           "bgcolor": "#E5ECF6",
           "radialaxis": {
            "gridcolor": "white",
            "linecolor": "white",
            "ticks": ""
           }
          },
          "scene": {
           "xaxis": {
            "backgroundcolor": "#E5ECF6",
            "gridcolor": "white",
            "gridwidth": 2,
            "linecolor": "white",
            "showbackground": true,
            "ticks": "",
            "zerolinecolor": "white"
           },
           "yaxis": {
            "backgroundcolor": "#E5ECF6",
            "gridcolor": "white",
            "gridwidth": 2,
            "linecolor": "white",
            "showbackground": true,
            "ticks": "",
            "zerolinecolor": "white"
           },
           "zaxis": {
            "backgroundcolor": "#E5ECF6",
            "gridcolor": "white",
            "gridwidth": 2,
            "linecolor": "white",
            "showbackground": true,
            "ticks": "",
            "zerolinecolor": "white"
           }
          },
          "shapedefaults": {
           "line": {
            "color": "#2a3f5f"
           }
          },
          "ternary": {
           "aaxis": {
            "gridcolor": "white",
            "linecolor": "white",
            "ticks": ""
           },
           "baxis": {
            "gridcolor": "white",
            "linecolor": "white",
            "ticks": ""
           },
           "bgcolor": "#E5ECF6",
           "caxis": {
            "gridcolor": "white",
            "linecolor": "white",
            "ticks": ""
           }
          },
          "title": {
           "x": 0.05
          },
          "xaxis": {
           "automargin": true,
           "gridcolor": "white",
           "linecolor": "white",
           "ticks": "",
           "title": {
            "standoff": 15
           },
           "zerolinecolor": "white",
           "zerolinewidth": 2
          },
          "yaxis": {
           "automargin": true,
           "gridcolor": "white",
           "linecolor": "white",
           "ticks": "",
           "title": {
            "standoff": 15
           },
           "zerolinecolor": "white",
           "zerolinewidth": 2
          }
         }
        },
        "xaxis": {
         "anchor": "y",
         "domain": [
          0,
          1
         ],
         "title": {
          "text": "cat"
         }
        },
        "yaxis": {
         "anchor": "x",
         "domain": [
          0,
          1
         ],
         "title": {
          "text": "compound_score"
         }
        }
       }
      }
     },
     "metadata": {},
     "output_type": "display_data"
    }
   ],
   "source": [
    "import plotly.express as px\n",
    "xs = pd.DataFrame(yelp_data.groupby(['cat'])['compound_score'].mean())\n",
    "\n",
    "xs=xs.sort_values(by='compound_score', ascending=False)\n",
    "xs\n",
    "\n",
    "#sns.barplot(x='cat',y='compound_score',data=xs)\n",
    "fig=px.bar(xs,y='compound_score')\n",
    "fig.show()"
   ]
  },
  {
   "cell_type": "code",
   "execution_count": 26,
   "metadata": {},
   "outputs": [
    {
     "data": {
      "text/html": [
       "<div>\n",
       "<style scoped>\n",
       "    .dataframe tbody tr th:only-of-type {\n",
       "        vertical-align: middle;\n",
       "    }\n",
       "\n",
       "    .dataframe tbody tr th {\n",
       "        vertical-align: top;\n",
       "    }\n",
       "\n",
       "    .dataframe thead th {\n",
       "        text-align: right;\n",
       "    }\n",
       "</style>\n",
       "<table border=\"1\" class=\"dataframe\">\n",
       "  <thead>\n",
       "    <tr style=\"text-align: right;\">\n",
       "      <th></th>\n",
       "      <th>stars</th>\n",
       "    </tr>\n",
       "    <tr>\n",
       "      <th>cat</th>\n",
       "      <th></th>\n",
       "    </tr>\n",
       "  </thead>\n",
       "  <tbody>\n",
       "    <tr>\n",
       "      <th>Korean</th>\n",
       "      <td>4.210744</td>\n",
       "    </tr>\n",
       "    <tr>\n",
       "      <th>French</th>\n",
       "      <td>4.187078</td>\n",
       "    </tr>\n",
       "    <tr>\n",
       "      <th>Mediterranean</th>\n",
       "      <td>4.180646</td>\n",
       "    </tr>\n",
       "    <tr>\n",
       "      <th>Spanish</th>\n",
       "      <td>4.172760</td>\n",
       "    </tr>\n",
       "    <tr>\n",
       "      <th>Indian</th>\n",
       "      <td>4.070175</td>\n",
       "    </tr>\n",
       "    <tr>\n",
       "      <th>Japanese</th>\n",
       "      <td>3.918949</td>\n",
       "    </tr>\n",
       "    <tr>\n",
       "      <th>Thai</th>\n",
       "      <td>3.906621</td>\n",
       "    </tr>\n",
       "    <tr>\n",
       "      <th>American</th>\n",
       "      <td>3.857858</td>\n",
       "    </tr>\n",
       "    <tr>\n",
       "      <th>Italian</th>\n",
       "      <td>3.739469</td>\n",
       "    </tr>\n",
       "    <tr>\n",
       "      <th>Southern</th>\n",
       "      <td>3.697023</td>\n",
       "    </tr>\n",
       "    <tr>\n",
       "      <th>Chinese</th>\n",
       "      <td>3.624169</td>\n",
       "    </tr>\n",
       "    <tr>\n",
       "      <th>Irish</th>\n",
       "      <td>3.531172</td>\n",
       "    </tr>\n",
       "  </tbody>\n",
       "</table>\n",
       "</div>"
      ],
      "text/plain": [
       "                  stars\n",
       "cat                    \n",
       "Korean         4.210744\n",
       "French         4.187078\n",
       "Mediterranean  4.180646\n",
       "Spanish        4.172760\n",
       "Indian         4.070175\n",
       "Japanese       3.918949\n",
       "Thai           3.906621\n",
       "American       3.857858\n",
       "Italian        3.739469\n",
       "Southern       3.697023\n",
       "Chinese        3.624169\n",
       "Irish          3.531172"
      ]
     },
     "execution_count": 26,
     "metadata": {},
     "output_type": "execute_result"
    }
   ],
   "source": [
    "y=pd.DataFrame(yelp_data.groupby(['cat'])['stars'].mean())\n",
    "y=y.sort_values(by='stars', ascending=False)\n",
    "y"
   ]
  }
 ],
 "metadata": {
  "kernelspec": {
   "display_name": "Python 3",
   "language": "python",
   "name": "python3"
  },
  "language_info": {
   "codemirror_mode": {
    "name": "ipython",
    "version": 3
   },
   "file_extension": ".py",
   "mimetype": "text/x-python",
   "name": "python",
   "nbconvert_exporter": "python",
   "pygments_lexer": "ipython3",
   "version": "3.11.5"
  },
  "orig_nbformat": 4
 },
 "nbformat": 4,
 "nbformat_minor": 2
}
